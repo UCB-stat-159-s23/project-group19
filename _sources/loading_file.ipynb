{
 "cells": [
  {
   "cell_type": "code",
   "execution_count": 1,
   "id": "066e0c31-d2da-4df1-92af-57a1af0ee819",
   "metadata": {},
   "outputs": [],
   "source": [
    "import pandas as pd\n",
    "from utils import util"
   ]
  },
  {
   "cell_type": "code",
   "execution_count": 2,
   "id": "ed94b81c-2ac8-4221-bbe6-8f0ce035961d",
   "metadata": {},
   "outputs": [],
   "source": [
    "'''\n",
    "important! Only run this cell if you want to download and read the original data file \"Motor_Vehicle_Collisions_-_Crashes.csv\"\n",
    "Otherwise, if you already have the yearly csv file in your data folder, read them via \"read_csv_of_year\" function from utils.py\n",
    "'''\n",
    "\n",
    "# set the filename\n",
    "filename = \"Motor_Vehicle_Collisions_-_Crashes.csv\"\n",
    "# read the csv file into dataframe\n",
    "df = pd.read_csv(f\"data/{filename}\", low_memory=False)\n",
    "# set the type of CRASH DATE into datetime\n",
    "df['CRASH DATE'] = pd.to_datetime(df['CRASH DATE'])\n",
    "# Extract yearly data and write into seperate csv files\n",
    "util.getYearlyData(df, filename)\n"
   ]
  }
 ],
 "metadata": {
  "kernelspec": {
   "display_name": "Python 3 (ipykernel)",
   "language": "python",
   "name": "python3"
  },
  "language_info": {
   "codemirror_mode": {
    "name": "ipython",
    "version": 3
   },
   "file_extension": ".py",
   "mimetype": "text/x-python",
   "name": "python",
   "nbconvert_exporter": "python",
   "pygments_lexer": "ipython3",
   "version": "3.10.8"
  }
 },
 "nbformat": 4,
 "nbformat_minor": 5
}
